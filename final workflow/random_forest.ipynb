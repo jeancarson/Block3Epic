{
 "cells": [
  {
   "cell_type": "code",
   "execution_count": 28,
   "metadata": {},
   "outputs": [],
   "source": [
    "%run data_cleaning.py\n"
   ]
  },
  {
   "cell_type": "code",
   "execution_count": 29,
   "metadata": {},
   "outputs": [
    {
     "name": "stderr",
     "output_type": "stream",
     "text": [
      "C:\\Users\\jeanl\\AppData\\Local\\Temp\\ipykernel_364\\171018602.py:10: SettingWithCopyWarning: \n",
      "A value is trying to be set on a copy of a slice from a DataFrame\n",
      "\n",
      "See the caveats in the documentation: https://pandas.pydata.org/pandas-docs/stable/user_guide/indexing.html#returning-a-view-versus-a-copy\n",
      "  data1.drop(\"Status\", axis=1, inplace=True)\n"
     ]
    },
    {
     "name": "stdout",
     "output_type": "stream",
     "text": [
      "Mean Squared Error on Validation Set: 34.621254019569115 ((( 5.8839828364441304))\n",
      "Mean Squared Error on Test Set: 34.94342084091611 ((5.911296037326849))\n",
      "Feature Importances:\n",
      "                   Feature  Importance\n",
      "1                  T Stage    0.945991\n",
      "10         Survival Months    0.013167\n",
      "8   Regional Node Examined    0.011950\n",
      "0                      Age    0.011314\n",
      "9    Reginol Node Positive    0.008795\n",
      "4                    Grade    0.004289\n",
      "7      Progesterone Status    0.001458\n",
      "5                  A Stage    0.001031\n",
      "2                  N Stage    0.000710\n",
      "3                6th Stage    0.000681\n",
      "6          Estrogen Status    0.000613\n"
     ]
    }
   ],
   "source": [
    "#random forest regression model for tumour size\n",
    "from sklearn.ensemble import RandomForestRegressor\n",
    "from sklearn.metrics import mean_squared_error\n",
    "from sklearn.model_selection import train_test_split\n",
    "import numpy as np\n",
    "np.random.seed(42)\n",
    "\n",
    "#Input parameters = everything except survival months and status\n",
    "data1 = remove_outliers_tumor_size(df)\n",
    "data1.drop(\"Status\", axis=1, inplace=True)\n",
    "\n",
    "\n",
    "x = data1.drop([\"Tumor Size\" ], axis=1)\n",
    "y = data1[\"Tumor Size\"]\n",
    "\n",
    "x_train, x_temp, y_train, y_temp = train_test_split(x, y, test_size=0.2)\n",
    "x_val, x_test, y_val, y_test = train_test_split(x_temp, y_temp, test_size=0.5)\n",
    "# Use RandomForestRegressor for regression tasks\n",
    "\n",
    "rf = RandomForestRegressor(random_state=42, n_estimators=1000, max_depth=5).fit(x_train, y_train)\n",
    "\n",
    "# Making predictions based on the model\n",
    "y_pred = rf.predict(x_test)\n",
    "y_val_pred = rf.predict(x_val)\n",
    "\n",
    "\n",
    "#Checking accuracy on validation set\n",
    "mse_validation = mean_squared_error(y_val, y_val_pred)\n",
    "print(\"Mean Squared Error on Validation Set:\", mse_validation,\"(((\", str(mse_validation**0.5) + \"))\")\n",
    "\n",
    "y_test_pred = rf.predict(x_test)\n",
    "#Checking accuracy on test set\n",
    "mse_test = mean_squared_error(y_test, y_test_pred)\n",
    "print(\"Mean Squared Error on Test Set:\", str(mse_test) + \" ((\" + str(mse_test**0.5) + \"))\")\n",
    "\n",
    "# Getting feature importances\n",
    "feature_importances = pd.DataFrame({'Feature': x.columns, 'Importance': rf.feature_importances_})\n",
    "\n",
    "# Sorting features by importance in descending order\n",
    "feature_importances = feature_importances.sort_values(by='Importance', ascending=False)\n",
    "\n",
    "# Print or display the feature importances\n",
    "print(\"Feature Importances:\")\n",
    "print(feature_importances)"
   ]
  },
  {
   "cell_type": "code",
   "execution_count": 30,
   "metadata": {},
   "outputs": [
    {
     "name": "stdout",
     "output_type": "stream",
     "text": [
      "Mean Squared Error on Validation Set: 346.5881409991867 ((( 18.616877853152143))\n",
      "Mean Squared Error on Test Set: 396.3066557294894 ((19.90745226616127))\n",
      "Feature Importances:\n",
      "                   Feature  Importance\n",
      "9   Regional Node Examined    0.231255\n",
      "0                      Age    0.226326\n",
      "6               Tumor Size    0.222836\n",
      "10   Reginol Node Positive    0.128634\n",
      "4                    Grade    0.060761\n",
      "8      Progesterone Status    0.046282\n",
      "3                6th Stage    0.028903\n",
      "7          Estrogen Status    0.017677\n",
      "1                  T Stage    0.016077\n",
      "5                  A Stage    0.014331\n",
      "2                  N Stage    0.006917\n",
      "11                  Status    0.000000\n"
     ]
    }
   ],
   "source": [
    "#random forest regression model for Suriaval months (only for dead people)\n",
    "from sklearn.ensemble import RandomForestRegressor\n",
    "from sklearn.metrics import mean_squared_error\n",
    "from sklearn.model_selection import train_test_split\n",
    "import numpy as np\n",
    "np.random.seed(42)\n",
    "\n",
    "#Input parameters = everything except survival months\n",
    "data2 = df.copy()\n",
    "data2 = data2[data2[\"Status\"] == 0]\n",
    "\n",
    "\n",
    "x = data2.drop([\"Survival Months\" ], axis=1)\n",
    "y = data2[\"Survival Months\"]\n",
    "\n",
    "x_train, x_temp, y_train, y_temp = train_test_split(x, y, test_size=0.2)\n",
    "x_val, x_test, y_val, y_test = train_test_split(x_temp, y_temp, test_size=0.5)\n",
    "# Use RandomForestRegressor for regression tasks\n",
    "\n",
    "rf = RandomForestRegressor(random_state=42, n_estimators=1000, max_depth=5).fit(x_train, y_train)\n",
    "\n",
    "# Making predictions based on the model\n",
    "y_pred = rf.predict(x_test)\n",
    "y_val_pred = rf.predict(x_val)\n",
    "\n",
    "\n",
    "#Checking accuracy on validation set\n",
    "mse_validation = mean_squared_error(y_val, y_val_pred)\n",
    "print(\"Mean Squared Error on Validation Set:\", mse_validation,\"(((\", str(mse_validation**0.5) + \"))\")\n",
    "\n",
    "y_test_pred = rf.predict(x_test)\n",
    "#Checking accuracy on test set\n",
    "mse_test = mean_squared_error(y_test, y_test_pred)\n",
    "print(\"Mean Squared Error on Test Set:\", str(mse_test) + \" ((\" + str(mse_test**0.5) + \"))\")\n",
    "\n",
    "# Getting feature importances\n",
    "feature_importances = pd.DataFrame({'Feature': x.columns, 'Importance': rf.feature_importances_})\n",
    "\n",
    "# Sorting features by importance in descending order\n",
    "feature_importances = feature_importances.sort_values(by='Importance', ascending=False)\n",
    "\n",
    "# Print or display the feature importances\n",
    "print(\"Feature Importances:\")\n",
    "print(feature_importances)"
   ]
  }
 ],
 "metadata": {
  "kernelspec": {
   "display_name": "Python 3",
   "language": "python",
   "name": "python3"
  },
  "language_info": {
   "codemirror_mode": {
    "name": "ipython",
    "version": 3
   },
   "file_extension": ".py",
   "mimetype": "text/x-python",
   "name": "python",
   "nbconvert_exporter": "python",
   "pygments_lexer": "ipython3",
   "version": "3.11.8"
  }
 },
 "nbformat": 4,
 "nbformat_minor": 2
}
