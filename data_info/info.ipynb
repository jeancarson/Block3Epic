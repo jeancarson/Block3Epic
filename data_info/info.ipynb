{
 "cells": [
  {
   "cell_type": "code",
   "execution_count": 9,
   "metadata": {},
   "outputs": [],
   "source": [
    "import numpy as np \n",
    "import pandas as pd\n",
    "import matplotlib.pyplot as plt \n",
    "\n",
    "df = pd.read_csv('/Users/miaborko/Documents/epic3/Block3Epic/cleaned_data.csv')\n"
   ]
  },
  {
   "cell_type": "code",
   "execution_count": 11,
   "metadata": {},
   "outputs": [
    {
     "name": "stdout",
     "output_type": "stream",
     "text": [
      "<class 'pandas.core.frame.DataFrame'>\n",
      "RangeIndex: 3891 entries, 0 to 3890\n",
      "Data columns (total 15 columns):\n",
      " #   Column                  Non-Null Count  Dtype \n",
      "---  ------                  --------------  ----- \n",
      " 0   Age                     3891 non-null   int64 \n",
      " 1   Race                    3891 non-null   object\n",
      " 2   Marital Status          3891 non-null   object\n",
      " 3   T Stage                 3891 non-null   object\n",
      " 4   N Stage                 3891 non-null   object\n",
      " 5   6th Stage               3891 non-null   object\n",
      " 6   Differentiate           3891 non-null   object\n",
      " 7   Grade                   3891 non-null   object\n",
      " 8   A Stage                 3891 non-null   object\n",
      " 9   Tumor Size (mm)         3891 non-null   int64 \n",
      " 10  Estrogen Status         3891 non-null   object\n",
      " 11  Progesterone Status     3891 non-null   object\n",
      " 12  Regional Node Examined  3891 non-null   int64 \n",
      " 13  Regional Node Positive  3891 non-null   int64 \n",
      " 14  Survival Months         3891 non-null   int64 \n",
      "dtypes: int64(5), object(10)\n",
      "memory usage: 456.1+ KB\n"
     ]
    }
   ],
   "source": [
    "df.info()"
   ]
  },
  {
   "cell_type": "code",
   "execution_count": null,
   "metadata": {},
   "outputs": [],
   "source": [
    "#my idea was that here we could just the display the statistics or something similar for our data I'm sure Ahmad will be pleased"
   ]
  },
  {
   "cell_type": "code",
   "execution_count": 12,
   "metadata": {},
   "outputs": [
    {
     "name": "stdout",
     "output_type": "stream",
     "text": [
      "Percentage of white people: 84.63120020560268\n",
      "Percentage of black people:  7.298894885633513\n",
      "Percentage of other races:  8.069904908763814\n",
      "heheheheh\n"
     ]
    }
   ],
   "source": [
    "#Race distribution\n",
    "white = (df[\"Race\"] == \"White\").sum() / len(df) * 100\n",
    "print(\"Percentage of white people:\", white)\n",
    "black = (df[\"Race\"]==\"Black\").sum()/len(df)*100\n",
    "print(\"Percentage of black people: \", black)\n",
    "other = (df[\"Race\"]==\"Other\").sum()/len(df)*100\n",
    "print(\"Percentage of other races: \", other)\n",
    "\n",
    "print(\"heheheheh\")"
   ]
  }
 ],
 "metadata": {
  "kernelspec": {
   "display_name": "base",
   "language": "python",
   "name": "python3"
  },
  "language_info": {
   "codemirror_mode": {
    "name": "ipython",
    "version": 3
   },
   "file_extension": ".py",
   "mimetype": "text/x-python",
   "name": "python",
   "nbconvert_exporter": "python",
   "pygments_lexer": "ipython3",
   "version": "3.11.4"
  }
 },
 "nbformat": 4,
 "nbformat_minor": 2
}
