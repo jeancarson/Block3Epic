{
 "cells": [
  {
   "cell_type": "code",
   "execution_count": 184,
   "metadata": {},
   "outputs": [],
   "source": [
    "import numpy as np \n",
    "import pandas as pd\n",
    "import matplotlib.pyplot as plt \n",
    "from sklearn.linear_model import LogisticRegression\n",
    "from sklearn.model_selection import train_test_split\n",
    "from sklearn.metrics import accuracy_score\n",
    "\n",
    "\n",
    "df = pd.read_csv('/Users/miaborko/Documents/epic3/Block3Epic/cleaned_data.csv')\n"
   ]
  },
  {
   "cell_type": "code",
   "execution_count": 185,
   "metadata": {},
   "outputs": [
    {
     "ename": "KeyError",
     "evalue": "\"['Differentiate'] not found in axis\"",
     "output_type": "error",
     "traceback": [
      "\u001b[0;31m---------------------------------------------------------------------------\u001b[0m",
      "\u001b[0;31mKeyError\u001b[0m                                  Traceback (most recent call last)",
      "\u001b[1;32m/Users/miaborko/Documents/epic3/Block3Epic/logistic/log.ipynb Cell 2\u001b[0m line \u001b[0;36m4\n\u001b[1;32m      <a href='vscode-notebook-cell:/Users/miaborko/Documents/epic3/Block3Epic/logistic/log.ipynb#W1sZmlsZQ%3D%3D?line=0'>1</a>\u001b[0m \u001b[39m#df.drop(\"Status\", axis=1, inplace=True)\u001b[39;00m\n\u001b[1;32m      <a href='vscode-notebook-cell:/Users/miaborko/Documents/epic3/Block3Epic/logistic/log.ipynb#W1sZmlsZQ%3D%3D?line=1'>2</a>\u001b[0m \u001b[39m#df.drop(\"Marital Status\", axis=1, inplace=True)\u001b[39;00m\n\u001b[1;32m      <a href='vscode-notebook-cell:/Users/miaborko/Documents/epic3/Block3Epic/logistic/log.ipynb#W1sZmlsZQ%3D%3D?line=2'>3</a>\u001b[0m \u001b[39m#df.drop(\"Race\", axis=1, inplace=True)\u001b[39;00m\n\u001b[0;32m----> <a href='vscode-notebook-cell:/Users/miaborko/Documents/epic3/Block3Epic/logistic/log.ipynb#W1sZmlsZQ%3D%3D?line=3'>4</a>\u001b[0m df\u001b[39m.\u001b[39mdrop(\u001b[39m\"\u001b[39m\u001b[39mDifferentiate\u001b[39m\u001b[39m\"\u001b[39m, axis\u001b[39m=\u001b[39m\u001b[39m1\u001b[39m, inplace\u001b[39m=\u001b[39m\u001b[39mTrue\u001b[39;00m)\n",
      "File \u001b[0;32m~/anaconda3/lib/python3.11/site-packages/pandas/util/_decorators.py:331\u001b[0m, in \u001b[0;36mdeprecate_nonkeyword_arguments.<locals>.decorate.<locals>.wrapper\u001b[0;34m(*args, **kwargs)\u001b[0m\n\u001b[1;32m    325\u001b[0m \u001b[39mif\u001b[39;00m \u001b[39mlen\u001b[39m(args) \u001b[39m>\u001b[39m num_allow_args:\n\u001b[1;32m    326\u001b[0m     warnings\u001b[39m.\u001b[39mwarn(\n\u001b[1;32m    327\u001b[0m         msg\u001b[39m.\u001b[39mformat(arguments\u001b[39m=\u001b[39m_format_argument_list(allow_args)),\n\u001b[1;32m    328\u001b[0m         \u001b[39mFutureWarning\u001b[39;00m,\n\u001b[1;32m    329\u001b[0m         stacklevel\u001b[39m=\u001b[39mfind_stack_level(),\n\u001b[1;32m    330\u001b[0m     )\n\u001b[0;32m--> 331\u001b[0m \u001b[39mreturn\u001b[39;00m func(\u001b[39m*\u001b[39margs, \u001b[39m*\u001b[39m\u001b[39m*\u001b[39mkwargs)\n",
      "File \u001b[0;32m~/anaconda3/lib/python3.11/site-packages/pandas/core/frame.py:5399\u001b[0m, in \u001b[0;36mDataFrame.drop\u001b[0;34m(self, labels, axis, index, columns, level, inplace, errors)\u001b[0m\n\u001b[1;32m   5251\u001b[0m \u001b[39m@deprecate_nonkeyword_arguments\u001b[39m(version\u001b[39m=\u001b[39m\u001b[39mNone\u001b[39;00m, allowed_args\u001b[39m=\u001b[39m[\u001b[39m\"\u001b[39m\u001b[39mself\u001b[39m\u001b[39m\"\u001b[39m, \u001b[39m\"\u001b[39m\u001b[39mlabels\u001b[39m\u001b[39m\"\u001b[39m])\n\u001b[1;32m   5252\u001b[0m \u001b[39mdef\u001b[39;00m \u001b[39mdrop\u001b[39m(  \u001b[39m# type: ignore[override]\u001b[39;00m\n\u001b[1;32m   5253\u001b[0m     \u001b[39mself\u001b[39m,\n\u001b[0;32m   (...)\u001b[0m\n\u001b[1;32m   5260\u001b[0m     errors: IgnoreRaise \u001b[39m=\u001b[39m \u001b[39m\"\u001b[39m\u001b[39mraise\u001b[39m\u001b[39m\"\u001b[39m,\n\u001b[1;32m   5261\u001b[0m ) \u001b[39m-\u001b[39m\u001b[39m>\u001b[39m DataFrame \u001b[39m|\u001b[39m \u001b[39mNone\u001b[39;00m:\n\u001b[1;32m   5262\u001b[0m \u001b[39m    \u001b[39m\u001b[39m\"\"\"\u001b[39;00m\n\u001b[1;32m   5263\u001b[0m \u001b[39m    Drop specified labels from rows or columns.\u001b[39;00m\n\u001b[1;32m   5264\u001b[0m \n\u001b[0;32m   (...)\u001b[0m\n\u001b[1;32m   5397\u001b[0m \u001b[39m            weight  1.0     0.8\u001b[39;00m\n\u001b[1;32m   5398\u001b[0m \u001b[39m    \"\"\"\u001b[39;00m\n\u001b[0;32m-> 5399\u001b[0m     \u001b[39mreturn\u001b[39;00m \u001b[39msuper\u001b[39m()\u001b[39m.\u001b[39mdrop(\n\u001b[1;32m   5400\u001b[0m         labels\u001b[39m=\u001b[39mlabels,\n\u001b[1;32m   5401\u001b[0m         axis\u001b[39m=\u001b[39maxis,\n\u001b[1;32m   5402\u001b[0m         index\u001b[39m=\u001b[39mindex,\n\u001b[1;32m   5403\u001b[0m         columns\u001b[39m=\u001b[39mcolumns,\n\u001b[1;32m   5404\u001b[0m         level\u001b[39m=\u001b[39mlevel,\n\u001b[1;32m   5405\u001b[0m         inplace\u001b[39m=\u001b[39minplace,\n\u001b[1;32m   5406\u001b[0m         errors\u001b[39m=\u001b[39merrors,\n\u001b[1;32m   5407\u001b[0m     )\n",
      "File \u001b[0;32m~/anaconda3/lib/python3.11/site-packages/pandas/util/_decorators.py:331\u001b[0m, in \u001b[0;36mdeprecate_nonkeyword_arguments.<locals>.decorate.<locals>.wrapper\u001b[0;34m(*args, **kwargs)\u001b[0m\n\u001b[1;32m    325\u001b[0m \u001b[39mif\u001b[39;00m \u001b[39mlen\u001b[39m(args) \u001b[39m>\u001b[39m num_allow_args:\n\u001b[1;32m    326\u001b[0m     warnings\u001b[39m.\u001b[39mwarn(\n\u001b[1;32m    327\u001b[0m         msg\u001b[39m.\u001b[39mformat(arguments\u001b[39m=\u001b[39m_format_argument_list(allow_args)),\n\u001b[1;32m    328\u001b[0m         \u001b[39mFutureWarning\u001b[39;00m,\n\u001b[1;32m    329\u001b[0m         stacklevel\u001b[39m=\u001b[39mfind_stack_level(),\n\u001b[1;32m    330\u001b[0m     )\n\u001b[0;32m--> 331\u001b[0m \u001b[39mreturn\u001b[39;00m func(\u001b[39m*\u001b[39margs, \u001b[39m*\u001b[39m\u001b[39m*\u001b[39mkwargs)\n",
      "File \u001b[0;32m~/anaconda3/lib/python3.11/site-packages/pandas/core/generic.py:4505\u001b[0m, in \u001b[0;36mNDFrame.drop\u001b[0;34m(self, labels, axis, index, columns, level, inplace, errors)\u001b[0m\n\u001b[1;32m   4503\u001b[0m \u001b[39mfor\u001b[39;00m axis, labels \u001b[39min\u001b[39;00m axes\u001b[39m.\u001b[39mitems():\n\u001b[1;32m   4504\u001b[0m     \u001b[39mif\u001b[39;00m labels \u001b[39mis\u001b[39;00m \u001b[39mnot\u001b[39;00m \u001b[39mNone\u001b[39;00m:\n\u001b[0;32m-> 4505\u001b[0m         obj \u001b[39m=\u001b[39m obj\u001b[39m.\u001b[39m_drop_axis(labels, axis, level\u001b[39m=\u001b[39mlevel, errors\u001b[39m=\u001b[39merrors)\n\u001b[1;32m   4507\u001b[0m \u001b[39mif\u001b[39;00m inplace:\n\u001b[1;32m   4508\u001b[0m     \u001b[39mself\u001b[39m\u001b[39m.\u001b[39m_update_inplace(obj)\n",
      "File \u001b[0;32m~/anaconda3/lib/python3.11/site-packages/pandas/core/generic.py:4546\u001b[0m, in \u001b[0;36mNDFrame._drop_axis\u001b[0;34m(self, labels, axis, level, errors, only_slice)\u001b[0m\n\u001b[1;32m   4544\u001b[0m         new_axis \u001b[39m=\u001b[39m axis\u001b[39m.\u001b[39mdrop(labels, level\u001b[39m=\u001b[39mlevel, errors\u001b[39m=\u001b[39merrors)\n\u001b[1;32m   4545\u001b[0m     \u001b[39melse\u001b[39;00m:\n\u001b[0;32m-> 4546\u001b[0m         new_axis \u001b[39m=\u001b[39m axis\u001b[39m.\u001b[39mdrop(labels, errors\u001b[39m=\u001b[39merrors)\n\u001b[1;32m   4547\u001b[0m     indexer \u001b[39m=\u001b[39m axis\u001b[39m.\u001b[39mget_indexer(new_axis)\n\u001b[1;32m   4549\u001b[0m \u001b[39m# Case for non-unique axis\u001b[39;00m\n\u001b[1;32m   4550\u001b[0m \u001b[39melse\u001b[39;00m:\n",
      "File \u001b[0;32m~/anaconda3/lib/python3.11/site-packages/pandas/core/indexes/base.py:6934\u001b[0m, in \u001b[0;36mIndex.drop\u001b[0;34m(self, labels, errors)\u001b[0m\n\u001b[1;32m   6932\u001b[0m \u001b[39mif\u001b[39;00m mask\u001b[39m.\u001b[39many():\n\u001b[1;32m   6933\u001b[0m     \u001b[39mif\u001b[39;00m errors \u001b[39m!=\u001b[39m \u001b[39m\"\u001b[39m\u001b[39mignore\u001b[39m\u001b[39m\"\u001b[39m:\n\u001b[0;32m-> 6934\u001b[0m         \u001b[39mraise\u001b[39;00m \u001b[39mKeyError\u001b[39;00m(\u001b[39mf\u001b[39m\u001b[39m\"\u001b[39m\u001b[39m{\u001b[39;00m\u001b[39mlist\u001b[39m(labels[mask])\u001b[39m}\u001b[39;00m\u001b[39m not found in axis\u001b[39m\u001b[39m\"\u001b[39m)\n\u001b[1;32m   6935\u001b[0m     indexer \u001b[39m=\u001b[39m indexer[\u001b[39m~\u001b[39mmask]\n\u001b[1;32m   6936\u001b[0m \u001b[39mreturn\u001b[39;00m \u001b[39mself\u001b[39m\u001b[39m.\u001b[39mdelete(indexer)\n",
      "\u001b[0;31mKeyError\u001b[0m: \"['Differentiate'] not found in axis\""
     ]
    }
   ],
   "source": [
    "#df.drop(\"Status\", axis=1, inplace=True)\n",
    "#df.drop(\"Marital Status\", axis=1, inplace=True)\n",
    "#df.drop(\"Race\", axis=1, inplace=True)\n",
    "df.drop(\"Differentiate\", axis=1, inplace=True)\n",
    "\n"
   ]
  },
  {
   "cell_type": "code",
   "execution_count": null,
   "metadata": {},
   "outputs": [
    {
     "data": {
      "text/plain": [
       "<bound method NDFrame.head of       Race  Marital Status  T Stage  N Stage  6th Stage  A Stage  \\\n",
       "0        2               1        0        0          0        1   \n",
       "1        2               1        1        1          2        1   \n",
       "2        2               0        2        2          4        1   \n",
       "3        2               1        0        0          0        1   \n",
       "4        2               1        1        0          1        1   \n",
       "...    ...             ...      ...      ...        ...      ...   \n",
       "3886     1               1        0        0          0        1   \n",
       "3887     2               0        1        1          2        1   \n",
       "3888     2               1        1        0          1        1   \n",
       "3889     0               0        1        0          1        1   \n",
       "3890     2               1        1        0          1        1   \n",
       "\n",
       "      Tumor Size (mm)  Estrogen Status  Regional Node Positive  \\\n",
       "0                   4                1                       1   \n",
       "1                  35                1                       5   \n",
       "2                  63                1                       7   \n",
       "3                  18                1                       1   \n",
       "4                  41                1                       1   \n",
       "...               ...              ...                     ...   \n",
       "3886                9                1                       1   \n",
       "3887               46                1                       8   \n",
       "3888               22                1                       3   \n",
       "3889               44                1                       1   \n",
       "3890               30                1                       2   \n",
       "\n",
       "      Survival Months  \n",
       "0                  60  \n",
       "1                  62  \n",
       "2                  75  \n",
       "3                  84  \n",
       "4                  50  \n",
       "...               ...  \n",
       "3886               49  \n",
       "3887               69  \n",
       "3888               69  \n",
       "3889               72  \n",
       "3890              100  \n",
       "\n",
       "[3891 rows x 10 columns]>"
      ]
     },
     "execution_count": 183,
     "metadata": {},
     "output_type": "execute_result"
    }
   ],
   "source": [
    "df.columns\n",
    "df.head"
   ]
  },
  {
   "cell_type": "code",
   "execution_count": null,
   "metadata": {},
   "outputs": [],
   "source": [
    "categorical_features = df.select_dtypes(include = \"object\").columns\n",
    "from sklearn.preprocessing import LabelEncoder\n",
    "le = LabelEncoder\n",
    "df.loc[df['Grade'] == 'anaplastic; Grade IV', 'Grade'] = 4\n",
    "df[categorical_features] = df[categorical_features].apply(LabelEncoder().fit_transform) # Encoding all categorical features\n",
    "df.drop(\"Grade\", axis=1, inplace=True)\n"
   ]
  },
  {
   "cell_type": "code",
   "execution_count": null,
   "metadata": {},
   "outputs": [],
   "source": [
    "\n",
    "numeric_cols = ['Age','Tumor Size (mm)','Regional Node Examined','Regional Node Positive','Survival Months']\n",
    "categ_cols = ['N Stage','6th Stage','differentiate','Grade','A Stage','T Stage ','Estrogen Status','Progesterone Status']"
   ]
  },
  {
   "cell_type": "code",
   "execution_count": null,
   "metadata": {},
   "outputs": [
    {
     "name": "stdout",
     "output_type": "stream",
     "text": [
      "Accuracy: 0.9248313523931898\n",
      "Logistic loss: 0.25294596533135727\n"
     ]
    }
   ],
   "source": [
    "from sklearn.metrics import classification_report, log_loss\n",
    "from sklearn.preprocessing import StandardScaler\n",
    "\n",
    "#Using a threshold of 40 mm (4 cm) because usually after the tumor reaches that size it becomes fatal\n",
    "threshold = 40\n",
    "X = df.drop(\"Tumor Size (mm)\", axis=1)\n",
    "y = (df[\"Tumor Size (mm)\"] > threshold).astype(int)  # binary target variable\n",
    "\n",
    "X_train, X_test, y_train, y_test = train_test_split(X, y, test_size=0.8, random_state=42)\n",
    "\n",
    "scaler = StandardScaler()\n",
    "X_train_scaled = scaler.fit_transform(X_train)\n",
    "X_test_scaled = scaler.transform(X_test)\n",
    "\n",
    "\n",
    "logreg = LogisticRegression(max_iter=10000, random_state=42)\n",
    "logreg.fit(X_train_scaled, y_train)\n",
    "\n",
    "y_pred = logreg.predict(X_test_scaled)\n",
    "\n",
    "accuracy = accuracy_score(y_test, y_pred)\n",
    "print(\"Accuracy:\", accuracy)\n",
    "\n",
    "y_pred_proba = logreg.predict_proba(X_test_scaled)[:, 1]  # Probability of tumor growth beyond the threshold\n",
    "logistic_loss = log_loss(y_test, y_pred_proba)\n",
    "\n",
    "print(\"Logistic loss:\", logistic_loss)\n",
    "\n",
    "\n",
    "\n"
   ]
  },
  {
   "cell_type": "code",
   "execution_count": null,
   "metadata": {},
   "outputs": [
    {
     "data": {
      "image/png": "[encoded data removed]",
      "text/plain": [
       "<Figure size 800x600 with 2 Axes>"
      ]
     },
     "metadata": {},
     "output_type": "display_data"
    }
   ],
   "source": [
    "from sklearn.metrics import confusion_matrix\n",
    "import seaborn as sns\n",
    "\n",
    "# Compute confusion matrix\n",
    "cm = confusion_matrix(y_test, y_pred)\n",
    "\n",
    "plt.figure(figsize=(8, 6))\n",
    "sns.heatmap(cm, annot=True, cmap='Purples', fmt='g')\n",
    "plt.xlabel('Predicted Label')\n",
    "plt.ylabel('True Label')\n",
    "plt.title('Confusion Matrix')\n",
    "plt.show()"
   ]
  },
  {
   "cell_type": "code",
   "execution_count": null,
   "metadata": {},
   "outputs": [],
   "source": [
    "#613 = predicted value is positive and it's actually positive\n",
    "#109 = predicted value is negative and it's actually negative\n",
    "#50 = predicted value is negative but it's positive\n",
    "#7 = predicted value is positive but it's negative"
   ]
  },
  {
   "cell_type": "code",
   "execution_count": null,
   "metadata": {},
   "outputs": [],
   "source": []
  },
  {
   "cell_type": "code",
   "execution_count": null,
   "metadata": {},
   "outputs": [
    {
     "name": "stdout",
     "output_type": "stream",
     "text": [
      "                    Column  Importance\n",
      "3                  T Stage    2.601617\n",
      "4                  N Stage    0.498940\n",
      "6                  A Stage    0.483287\n",
      "7          Estrogen Status    0.314809\n",
      "1                     Race    0.140823\n",
      "11         Survival Months    0.081220\n",
      "10  Regional Node Positive    0.037793\n",
      "5                6th Stage   -0.065973\n",
      "2           Marital Status   -0.106714\n",
      "0                      Age   -0.113204\n",
      "9   Regional Node Examined   -0.139011\n",
      "8      Progesterone Status   -0.272972\n"
     ]
    }
   ],
   "source": [
    "coefficients = logreg.coef_[0]\n",
    "feature_importance = pd.DataFrame({'Column': X.columns, 'Importance': coefficients})\n",
    "feature_importance.sort_values(by='Importance', ascending=False, inplace=True)\n",
    "print(feature_importance)"
   ]
  },
  {
   "cell_type": "code",
   "execution_count": null,
   "metadata": {},
   "outputs": [],
   "source": [
    "#df.drop(\"T Stage\", axis=1, inplace=True)\n",
    "#df.drop(\"6th Stage\", axis=1, inplace=True)\n",
    "df.drop(\"Progesterone Status\", axis=1, inplace=True)\n",
    "df.drop(\"Age\", axis=1, inplace=True)\n",
    "df.drop(\"Regional Node Examined\", axis=1, inplace=True)"
   ]
  },
  {
   "cell_type": "code",
   "execution_count": null,
   "metadata": {},
   "outputs": [
    {
     "name": "stdout",
     "output_type": "stream",
     "text": [
      "Accuracy: 0.9241888853196274\n",
      "Logistic loss: 0.25361274640997333\n"
     ]
    }
   ],
   "source": [
    "from sklearn.metrics import classification_report, log_loss\n",
    "from sklearn.preprocessing import StandardScaler\n",
    "\n",
    "#Using a threshold of 40 mm (4 cm) because usually after the tumor reaches that size it becomes fatal\n",
    "threshold = 40\n",
    "X = df.drop(\"Tumor Size (mm)\", axis=1)\n",
    "y = (df[\"Tumor Size (mm)\"] > threshold).astype(int)  # binary target variable\n",
    "\n",
    "X_train, X_test, y_train, y_test = train_test_split(X, y, test_size=0.8, random_state=42)\n",
    "\n",
    "scaler = StandardScaler()\n",
    "X_train_scaled = scaler.fit_transform(X_train)\n",
    "X_test_scaled = scaler.transform(X_test)\n",
    "\n",
    "\n",
    "logreg = LogisticRegression(max_iter=10000, random_state=42)\n",
    "logreg.fit(X_train_scaled, y_train)\n",
    "\n",
    "y_pred = logreg.predict(X_test_scaled)\n",
    "\n",
    "accuracy = accuracy_score(y_test, y_pred)\n",
    "print(\"Accuracy:\", accuracy)\n",
    "\n",
    "y_pred_proba = logreg.predict_proba(X_test_scaled)[:, 1]  # Probability of tumor growth beyond the threshold\n",
    "logistic_loss = log_loss(y_test, y_pred_proba)\n",
    "\n",
    "print(\"Logistic loss:\", logistic_loss)\n",
    "\n",
    "\n",
    "\n"
   ]
  },
  {
   "cell_type": "code",
   "execution_count": null,
   "metadata": {},
   "outputs": [
    {
     "name": "stdout",
     "output_type": "stream",
     "text": [
      "Cross-validation accuracy scores: [0.926829268292683, 0.9241645244215938, 0.922879177377892, 0.922879177377892, 0.9267352185089974]\n",
      "Mean cross-validation accuracy: 0.9246974731958115\n",
      "Cross-validation log loss scores: [0.2373440812332606, 0.24737024408767544, 0.25678530288015206, 0.25918441197475045, 0.2457793998027218]\n",
      "Mean cross-validation log loss: 0.24929268799571208\n"
     ]
    }
   ],
   "source": [
    "# Cross validationb, optimization\n",
    "from sklearn.model_selection import cross_val_score, KFold\n",
    "from sklearn.metrics import accuracy_score, log_loss\n",
    "\n",
    "threshold = 40\n",
    "X = df.drop(\"Tumor Size (mm)\", axis=1)\n",
    "y = (df[\"Tumor Size (mm)\"] > threshold).astype(int)  \n",
    "scaler = StandardScaler()\n",
    "logreg = LogisticRegression(max_iter=10000, random_state=42)\n",
    "\n",
    "# Create a KFold object with 5 folds\n",
    "kf = KFold(n_splits=5, shuffle=True, random_state=42)\n",
    "\n",
    "# Creating lists because there will be 5 of them\n",
    "cv_accuracy_scores = []\n",
    "cv_log_loss_scores = []\n",
    "\n",
    "# Splitting it into 5 \n",
    "for train_index, test_index in kf.split(X):\n",
    "    X_train, X_test = X.iloc[train_index], X.iloc[test_index]\n",
    "    y_train, y_test = y.iloc[train_index], y.iloc[test_index]\n",
    "    \n",
    "    X_train_scaled = scaler.fit_transform(X_train)\n",
    "    X_test_scaled = scaler.transform(X_test)\n",
    "    \n",
    " \n",
    "    logreg.fit(X_train_scaled, y_train)\n",
    "    \n",
    "    # Making predictions \n",
    "    y_pred = logreg.predict(X_test_scaled)\n",
    "    y_pred_proba = logreg.predict_proba(X_test_scaled)[:, 1]\n",
    "    \n",
    "    # Calculate metrics and add them to the listss\n",
    "    accuracy = accuracy_score(y_test, y_pred)\n",
    "    log_loss_score = log_loss(y_test, y_pred_proba)\n",
    "    \n",
    "    cv_accuracy_scores.append(accuracy)\n",
    "    cv_log_loss_scores.append(log_loss_score)\n",
    "\n",
    "print(\"Cross-validation accuracy scores:\", cv_accuracy_scores)\n",
    "print(\"Mean cross-validation accuracy:\", np.mean(cv_accuracy_scores))\n",
    "print(\"Cross-validation log loss scores:\", cv_log_loss_scores)\n",
    "print(\"Mean cross-validation log loss:\", np.mean(cv_log_loss_scores))\n"
   ]
  }
 ],
 "metadata": {
  "kernelspec": {
   "display_name": "DAML",
   "language": "python",
   "name": "python3"
  },
  "language_info": {
   "codemirror_mode": {
    "name": "ipython",
    "version": 3
   },
   "file_extension": ".py",
   "mimetype": "text/x-python",
   "name": "python",
   "nbconvert_exporter": "python",
   "pygments_lexer": "ipython3",
   "version": "3.11.4"
  }
 },
 "nbformat": 4,
 "nbformat_minor": 2
}
